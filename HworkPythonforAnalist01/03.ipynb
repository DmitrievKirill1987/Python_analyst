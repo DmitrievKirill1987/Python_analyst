{
 "cells": [
  {
   "attachments": {},
   "cell_type": "markdown",
   "metadata": {},
   "source": [
    "## Задача 3\n",
    "### Условие 4:\n",
    "Даны два списка.\n",
    "- Дата покупки\n",
    "- Суммы покупок по датам\n",
    "\n",
    "#### 4.1 Найдите, какая выручка у компании в ноябре Используйте list comprehensions\n",
    "#### 4.2 Найдите выручку компании в зависимости от месяца\n",
    "Для этого напишите функцию, которая на вход принимает список с датами и список с выручкой, а на выходе словарь, где ключи - это месяцы, а значения - это выручка.\n",
    "Используйте аннотирование типов."
   ]
  },
  {
   "cell_type": "code",
   "execution_count": 13,
   "metadata": {},
   "outputs": [],
   "source": [
    "my_daybuy: list[str] = ['2021-09-14', '2021-12-15', '2021-09-08', '2021-12-05', '2021-10-09',\n",
    "'2021-09-30', '2021-12-22', '2021-11-29', '2021-12-24', '2021-11-26',\n",
    "'2021-10-27', '2021-12-18', '2021-11-09', '2021-11-23', '2021-09-27',\n",
    "'2021-10-02', '2021-12-27', '2021-09-20', '2021-12-13', '2021-11-01',\n",
    "'2021-11-09', '2021-12-06', '2021-12-08',\n",
    "'2021-10-09', '2021-10-31', '2021-09-30', '2021-11-09', '2021-12-13', '2021-10-26', '2021-12-09']"
   ]
  },
  {
   "cell_type": "code",
   "execution_count": 14,
   "metadata": {},
   "outputs": [],
   "source": [
    "my_summbuy: list[int] = [1270, 8413, 9028, 3703, 5739, 4095, 295,\n",
    " 4944, 5723, 3701, 4471, 651, 7037, 4274,\n",
    " 6275, 4988, 6930, 2971, 6592, 2004, 2822, 519,\n",
    " 3406, 2732, 5015, 2008, 316, 6333, 5700, 2887]"
   ]
  },
  {
   "cell_type": "code",
   "execution_count": 15,
   "metadata": {},
   "outputs": [],
   "source": [
    "def revenue(data: list[str], sum: list[int]) -> dict:\n",
    "    month: set[str] = set([i[5:7] for i in data])\n",
    "    result: dict[str, int] = dict.fromkeys(month, 0)\n",
    "    for i,j in enumerate(data):\n",
    "        result[j[5:7]] += sum[i]\n",
    "    return result"
   ]
  },
  {
   "cell_type": "code",
   "execution_count": 18,
   "metadata": {},
   "outputs": [
    {
     "name": "stdout",
     "output_type": "stream",
     "text": [
      "25098\n",
      "{'09': 25647, '12': 45452, '11': 25098, '10': 28645}\n"
     ]
    }
   ],
   "source": [
    "print(sum(my_summbuy[i] for i in range(len(my_daybuy)) if '-11-' in my_daybuy[i]))\n",
    "print(revenue(my_daybuy, my_summbuy))"
   ]
  }
 ],
 "metadata": {
  "kernelspec": {
   "display_name": "Python 3",
   "language": "python",
   "name": "python3"
  },
  "language_info": {
   "codemirror_mode": {
    "name": "ipython",
    "version": 3
   },
   "file_extension": ".py",
   "mimetype": "text/x-python",
   "name": "python",
   "nbconvert_exporter": "python",
   "pygments_lexer": "ipython3",
   "version": "3.11.2"
  },
  "orig_nbformat": 4,
  "vscode": {
   "interpreter": {
    "hash": "ebfc0a8d552866b0d59eba665220a57de3bc06f3ac643b8bef38dd8f66781fdd"
   }
  }
 },
 "nbformat": 4,
 "nbformat_minor": 2
}
