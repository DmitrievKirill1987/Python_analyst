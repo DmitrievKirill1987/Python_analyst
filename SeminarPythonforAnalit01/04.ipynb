{
 "cells": [
  {
   "attachments": {},
   "cell_type": "markdown",
   "metadata": {},
   "source": [
    "# Задание 4.\n",
    "## 4.1 Сгенерируйте случайные целые числа от 0 до 100 в количестве 5 штук с помощью модуля random\n",
    "\n",
    "● Зафиксируйте псевдогенерацию, чтобы\n",
    "сгенерированные значения всегда были одинаковые\n",
    "\n",
    "● Используйте list comprehensions"
   ]
  },
  {
   "cell_type": "code",
   "execution_count": 1,
   "metadata": {},
   "outputs": [],
   "source": [
    "import random"
   ]
  },
  {
   "cell_type": "code",
   "execution_count": 3,
   "metadata": {},
   "outputs": [
    {
     "data": {
      "text/plain": [
       "[1, 26, 59, 62, 35]"
      ]
     },
     "execution_count": 3,
     "metadata": {},
     "output_type": "execute_result"
    }
   ],
   "source": [
    "random.seed(10)\n",
    "data = [random.randint(0,100) for i in range(5)]\n",
    "data"
   ]
  },
  {
   "attachments": {},
   "cell_type": "markdown",
   "metadata": {},
   "source": [
    "# 4.2 Напишите генератор\n",
    "- Генератор на вход принимает список с данными о клиенте (данные\n",
    "из пункта 4.1)\n",
    "- Внутри генератора реализуйте обход по списку с данными\n",
    "На каждой итерации генератор будет возвращать кортеж из двух\n",
    "элементов:\n",
    "1. данные по клиенту (в зависимости от итерации, на 0 итерации\n",
    "вернется 0 элемент, на 1 итерации вернется 1 элемент и тд)\n",
    "2. целочисленное значение, которое показывает, сколько секунд\n",
    "прошло с предыдущей итерации\n",
    "Примечание: секунды, которые возвращаются должны показывать время не\n",
    "с начала запуска генератора, а именно то время, которое прошло с\n",
    "предыдущей итерации. А значит время на первой итерации должно\n",
    "равняться 0.\n",
    "- Используйте функцию time из модуля time для подсчета времени.\n",
    "- Чтобы проверить работу таймера, запустите проход по\n",
    "генератору в цикле с time.sleep(2)"
   ]
  },
  {
   "cell_type": "code",
   "execution_count": 4,
   "metadata": {},
   "outputs": [],
   "source": [
    "import time"
   ]
  },
  {
   "cell_type": "code",
   "execution_count": 17,
   "metadata": {},
   "outputs": [],
   "source": [
    "def func(nums:list) -> tuple:\n",
    "    last_time = time.time()\n",
    "    for num in nums: \n",
    "        cur_time = time.time()\n",
    "        diff = cur_time - last_time\n",
    "        yield num, int(diff)\n",
    "        last_time = cur_time\n"
   ]
  },
  {
   "cell_type": "code",
   "execution_count": 18,
   "metadata": {},
   "outputs": [
    {
     "name": "stdout",
     "output_type": "stream",
     "text": [
      "(1, 0)\n",
      "(26, 2)\n",
      "(59, 2)\n",
      "(62, 2)\n",
      "(35, 2)\n"
     ]
    }
   ],
   "source": [
    "for item in func(data):\n",
    "    print(item)\n",
    "    time.sleep(2)"
   ]
  },
  {
   "cell_type": "code",
   "execution_count": null,
   "metadata": {},
   "outputs": [],
   "source": []
  }
 ],
 "metadata": {
  "kernelspec": {
   "display_name": "Python 3",
   "language": "python",
   "name": "python3"
  },
  "language_info": {
   "codemirror_mode": {
    "name": "ipython",
    "version": 3
   },
   "file_extension": ".py",
   "mimetype": "text/x-python",
   "name": "python",
   "nbconvert_exporter": "python",
   "pygments_lexer": "ipython3",
   "version": "3.11.2 (tags/v3.11.2:878ead1, Feb  7 2023, 16:38:35) [MSC v.1934 64 bit (AMD64)]"
  },
  "orig_nbformat": 4,
  "vscode": {
   "interpreter": {
    "hash": "ebfc0a8d552866b0d59eba665220a57de3bc06f3ac643b8bef38dd8f66781fdd"
   }
  }
 },
 "nbformat": 4,
 "nbformat_minor": 2
}
