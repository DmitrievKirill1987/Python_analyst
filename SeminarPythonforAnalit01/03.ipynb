{
 "cells": [
  {
   "attachments": {},
   "cell_type": "markdown",
   "metadata": {},
   "source": [
    "## Задание 3\n",
    "Извлеките только два ключа name и age из представленного словаря\n",
    "### 3.1 Напишите фукцию с циклом for\n",
    "### 3.2 Используя dict comprehensions\n",
    "\n",
    "Функция на вход принимает\n",
    "- исходный словарь\n",
    "- ключи, которые нужно извлечь (аргумент по\n",
    "умолчанию)\n",
    "\n",
    "На выходе словарь с нужными ключами\n",
    "\n",
    "Используйте аннотирование типов\n"
   ]
  },
  {
   "cell_type": "code",
   "execution_count": 1,
   "metadata": {},
   "outputs": [],
   "source": [
    "client_dict = {\"name\": \"John\", \"age\": 25, \"salary\": 5000, \"city\": \"Moscow\"}"
   ]
  },
  {
   "cell_type": "code",
   "execution_count": 2,
   "metadata": {},
   "outputs": [
    {
     "data": {
      "text/plain": [
       "{'name': 'John', 'age': 25}"
      ]
     },
     "execution_count": 2,
     "metadata": {},
     "output_type": "execute_result"
    }
   ],
   "source": [
    "def new_dict(dict_input: dict, keys: list=[\"name\", \"age\"]) -> dict:\n",
    "    dict_res = {}\n",
    "    for k in keys:\n",
    "        dict_res[k] = dict_input[k]\n",
    "    return dict_res\n",
    "\n",
    "new_dict(client_dict)\n"
   ]
  },
  {
   "cell_type": "code",
   "execution_count": 5,
   "metadata": {},
   "outputs": [
    {
     "data": {
      "text/plain": [
       "{'name': 'John', 'age': 25}"
      ]
     },
     "execution_count": 5,
     "metadata": {},
     "output_type": "execute_result"
    }
   ],
   "source": [
    "my_dict = {k: client_dict[k] for k in [\"name\", \"age\"]}\n",
    "my_dict"
   ]
  }
 ],
 "metadata": {
  "kernelspec": {
   "display_name": "Python 3",
   "language": "python",
   "name": "python3"
  },
  "language_info": {
   "codemirror_mode": {
    "name": "ipython",
    "version": 3
   },
   "file_extension": ".py",
   "mimetype": "text/x-python",
   "name": "python",
   "nbconvert_exporter": "python",
   "pygments_lexer": "ipython3",
   "version": "3.11.2 (tags/v3.11.2:878ead1, Feb  7 2023, 16:38:35) [MSC v.1934 64 bit (AMD64)]"
  },
  "orig_nbformat": 4,
  "vscode": {
   "interpreter": {
    "hash": "ebfc0a8d552866b0d59eba665220a57de3bc06f3ac643b8bef38dd8f66781fdd"
   }
  }
 },
 "nbformat": 4,
 "nbformat_minor": 2
}
